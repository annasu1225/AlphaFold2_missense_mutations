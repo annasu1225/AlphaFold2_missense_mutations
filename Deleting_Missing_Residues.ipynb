{
  "nbformat": 4,
  "nbformat_minor": 0,
  "metadata": {
    "colab": {
      "provenance": [],
      "include_colab_link": true
    },
    "kernelspec": {
      "name": "python3",
      "display_name": "Python 3"
    },
    "language_info": {
      "name": "python"
    }
  },
  "cells": [
    {
      "cell_type": "markdown",
      "metadata": {
        "id": "view-in-github",
        "colab_type": "text"
      },
      "source": [
        "<a href=\"https://colab.research.google.com/github/annasu1225/AlphaFold2_missesense_mutations/blob/main/Deleting_Missing_Residues.ipynb\" target=\"_parent\"><img src=\"https://colab.research.google.com/assets/colab-badge.svg\" alt=\"Open In Colab\"/></a>"
      ]
    },
    {
      "cell_type": "markdown",
      "source": [
        "## This notebook finds the missing residues based on REMARK 465 in the reference PDB and deletes these residues in the model PDB."
      ],
      "metadata": {
        "id": "Aa9dTWeJImL_"
      }
    },
    {
      "cell_type": "markdown",
      "source": [
        "Anna\n",
        "Dec 5, 2022"
      ],
      "metadata": {
        "id": "4WQq6-e_MDXW"
      }
    },
    {
      "cell_type": "markdown",
      "source": [
        "Import BioPython's PDB package."
      ],
      "metadata": {
        "id": "y0zkL0RxMZ3k"
      }
    },
    {
      "cell_type": "code",
      "execution_count": null,
      "metadata": {
        "colab": {
          "base_uri": "https://localhost:8080/"
        },
        "id": "7SnfzzneIJxM",
        "outputId": "2e679626-cadf-4451-bf8c-2dd714295b14"
      },
      "outputs": [
        {
          "output_type": "stream",
          "name": "stdout",
          "text": [
            "Looking in indexes: https://pypi.org/simple, https://us-python.pkg.dev/colab-wheels/public/simple/\n",
            "Collecting biopython\n",
            "  Downloading biopython-1.80-cp38-cp38-manylinux_2_17_x86_64.manylinux2014_x86_64.whl (3.1 MB)\n",
            "\u001b[K     |████████████████████████████████| 3.1 MB 8.6 MB/s \n",
            "\u001b[?25hRequirement already satisfied: numpy in /usr/local/lib/python3.8/dist-packages (from biopython) (1.21.6)\n",
            "Installing collected packages: biopython\n",
            "Successfully installed biopython-1.80\n"
          ]
        }
      ],
      "source": [
        "!pip install biopython\n",
        "import Bio.PDB as bpdb"
      ]
    },
    {
      "cell_type": "markdown",
      "source": [
        "Connect to your Google drive"
      ],
      "metadata": {
        "id": "vCeZ7ujbLlgE"
      }
    },
    {
      "cell_type": "code",
      "source": [
        "from google.colab import drive\n",
        "drive.mount('/content/drive')"
      ],
      "metadata": {
        "id": "-YG0PcCIIiu8",
        "colab": {
          "base_uri": "https://localhost:8080/"
        },
        "outputId": "515bc3da-b008-4565-a74a-341a419c40f2"
      },
      "execution_count": null,
      "outputs": [
        {
          "output_type": "stream",
          "name": "stdout",
          "text": [
            "Mounted at /content/drive\n"
          ]
        }
      ]
    },
    {
      "cell_type": "markdown",
      "source": [
        "Get mutant information"
      ],
      "metadata": {
        "id": "qbCQM3_8t8gm"
      }
    },
    {
      "cell_type": "code",
      "source": [
        "mutant_ID = '1jbq'\n",
        "chain_id = 'A'"
      ],
      "metadata": {
        "id": "CAzUH0p8t7uF"
      },
      "execution_count": null,
      "outputs": []
    },
    {
      "cell_type": "markdown",
      "source": [
        "Get the reference PDB and model PDB\n",
        "\n"
      ],
      "metadata": {
        "id": "DjCQE6FnLg-e"
      }
    },
    {
      "cell_type": "code",
      "source": [
        "import os.path\n",
        "root = '/content/drive/My Drive/Colab Notebooks/'\n",
        "ref_pdb = os.path.join(root, 'reference', f'{mutant_ID}_reference.pdb')\n",
        "model_pdb = os.path.join(root, 'unrelaxed_predictions', mutant_ID, f'{mutant_ID}_model_uncropped.pdb')"
      ],
      "metadata": {
        "id": "xvFwLE_hIZMh"
      },
      "execution_count": null,
      "outputs": []
    },
    {
      "cell_type": "markdown",
      "source": [
        "Get the structure"
      ],
      "metadata": {
        "id": "gxrn3oVoNKar"
      }
    },
    {
      "cell_type": "code",
      "source": [
        "s = bpdb.PDBParser().get_structure('temp', model_pdb)"
      ],
      "metadata": {
        "id": "BxfvtOOeJKzx"
      },
      "execution_count": null,
      "outputs": []
    },
    {
      "cell_type": "markdown",
      "source": [
        "Get the positions of the missing residues"
      ],
      "metadata": {
        "id": "0uAMD9o1LjPQ"
      }
    },
    {
      "cell_type": "code",
      "source": [
        "fin = open(ref_pdb,'r')\n",
        "ref = fin.readlines()\n",
        "fin.close()\n",
        "\n",
        "mis_res = []\n",
        "\n",
        "for i,line in enumerate(ref):\n",
        "  if line[0:10] == 'REMARK 465':\n",
        "    split = [line[:10], line[19], line[21:26]]\n",
        "    if split[1] == chain_id:\n",
        "      mis_res.append(int(split[2]))\n",
        "  if line[0:5] == 'DBREF':\n",
        "    seqBegin = int(line[14:18])\n",
        "\n",
        "missed_res_indices = sorted(list(set(mis_res)))"
      ],
      "metadata": {
        "id": "tNlS-9Y8NJ-S"
      },
      "execution_count": null,
      "outputs": []
    },
    {
      "cell_type": "code",
      "source": [
        "for i in range(len(missed_res_indices)):\n",
        "    missed_res_indices[i] = missed_res_indices[i] - seqBegin + 1\n",
        "print(seqBegin)\n",
        "print(missed_res_indices)"
      ],
      "metadata": {
        "id": "PbxFv6V-XZqS",
        "outputId": "8f62468e-3f37-41d0-b022-588d6a789bdc",
        "colab": {
          "base_uri": "https://localhost:8080/"
        }
      },
      "execution_count": null,
      "outputs": [
        {
          "output_type": "stream",
          "name": "stdout",
          "text": [
            "-21\n",
            "[1, 2, 3, 4, 5, 6, 7, 8, 9, 10, 11, 12, 13, 14, 15, 16, 17, 18, 19, 20, 21, 22, 23, 24, 25, 26, 27, 28, 29, 30, 31, 32, 33, 34, 35, 36, 37, 38, 39, 40, 41, 42, 43, 44, 45, 46, 47, 48, 49, 50, 51, 52, 53, 54, 55, 56, 57, 58, 59, 60, 61, 62, 63, 64, 216, 217, 218, 219, 220, 221, 222, 420, 421, 422, 423, 424, 425, 426, 427, 428, 429, 430, 431, 432, 433, 434, 435]\n"
          ]
        }
      ]
    },
    {
      "cell_type": "markdown",
      "source": [
        "Define a function to exclude the missing residues in the model PDB"
      ],
      "metadata": {
        "id": "O3asNP4ANRal"
      }
    },
    {
      "cell_type": "code",
      "source": [
        "class ResSelect(bpdb.Select):\n",
        "    def accept_residue(self, res):\n",
        "        if res.id[1] in missed_res_indices and res.parent.id == chain_id:\n",
        "            return False\n",
        "        else:\n",
        "            return True"
      ],
      "metadata": {
        "id": "wua2FRfYbigb"
      },
      "execution_count": null,
      "outputs": []
    },
    {
      "cell_type": "markdown",
      "source": [
        "Save the new model PDB file "
      ],
      "metadata": {
        "id": "wqd6eoMeNZ0F"
      }
    },
    {
      "cell_type": "code",
      "source": [
        "io = bpdb.PDBIO()\n",
        "io.set_structure(s)\n",
        "io.save(f\"{mutant_ID}_model.pdb\", ResSelect())"
      ],
      "metadata": {
        "id": "Zt8rzC9HbjSJ"
      },
      "execution_count": null,
      "outputs": []
    },
    {
      "cell_type": "markdown",
      "source": [
        "References: \n",
        "1. https://stackoverflow.com/questions/44151021/gap-characters-corresponding-to-the-missing-residues-in-a-protein-sequence-using\n",
        "2.https://stackoverflow.com/questions/22452748/remove-parts-from-a-pdb-file-using-python"
      ],
      "metadata": {
        "id": "hrMtLMtWNjcx"
      }
    }
  ]
}